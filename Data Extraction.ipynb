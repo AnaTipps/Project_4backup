{
 "cells": [
  {
   "cell_type": "markdown",
   "id": "e092c201",
   "metadata": {},
   "source": [
    "# Data Extraction"
   ]
  },
  {
   "cell_type": "markdown",
   "id": "2f2c111e",
   "metadata": {},
   "source": [
    "Set-up Instructions:\n",
    "\n",
    "Install !pip install opendatasets {!pip install opendatasets} to download a CSV file using API (API key is required)."
   ]
  },
  {
   "cell_type": "code",
   "execution_count": 1,
   "id": "43cd4c15",
   "metadata": {},
   "outputs": [],
   "source": [
    "# Import dependecies\n",
    "\n",
    "import opendatasets as od"
   ]
  },
  {
   "cell_type": "code",
   "execution_count": 2,
   "id": "44888c3e",
   "metadata": {},
   "outputs": [
    {
     "name": "stdout",
     "output_type": "stream",
     "text": [
      "Please provide your Kaggle credentials to download this dataset. Learn more: http://bit.ly/kaggle-creds\n",
      "Your Kaggle username: analuisatipple\n",
      "Your Kaggle Key: ········\n",
      "Downloading breast-cancer-wisconsin-data.zip to .\\breast-cancer-wisconsin-data\n"
     ]
    },
    {
     "name": "stderr",
     "output_type": "stream",
     "text": [
      "100%|██████████████████████████████████████████████████████████████████████████████| 48.6k/48.6k [00:00<00:00, 827kB/s]"
     ]
    },
    {
     "name": "stdout",
     "output_type": "stream",
     "text": [
      "\n"
     ]
    },
    {
     "name": "stderr",
     "output_type": "stream",
     "text": [
      "\n"
     ]
    }
   ],
   "source": [
    "# Download directly from kaggle.com using API with API key\n",
    "\n",
    "od.download(\"https://www.kaggle.com/datasets/uciml/breast-cancer-wisconsin-data?select=data.csv\")"
   ]
  },
  {
   "cell_type": "markdown",
   "id": "cad7e06c",
   "metadata": {},
   "source": [
    "# Data Source"
   ]
  },
  {
   "cell_type": "markdown",
   "id": "13666bcd",
   "metadata": {},
   "source": [
    "https://www.kaggle.com/datasets/uciml/breast-cancer-wisconsin-data?select=data.csv"
   ]
  }
 ],
 "metadata": {
  "kernelspec": {
   "display_name": "Python 3 (ipykernel)",
   "language": "python",
   "name": "python3"
  },
  "language_info": {
   "codemirror_mode": {
    "name": "ipython",
    "version": 3
   },
   "file_extension": ".py",
   "mimetype": "text/x-python",
   "name": "python",
   "nbconvert_exporter": "python",
   "pygments_lexer": "ipython3",
   "version": "3.9.12"
  }
 },
 "nbformat": 4,
 "nbformat_minor": 5
}
